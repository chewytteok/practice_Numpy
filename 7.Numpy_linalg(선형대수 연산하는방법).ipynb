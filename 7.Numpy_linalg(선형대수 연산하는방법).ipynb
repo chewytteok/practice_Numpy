{
 "cells": [
  {
   "cell_type": "code",
   "execution_count": 1,
   "metadata": {},
   "outputs": [],
   "source": [
    "import numpy as np"
   ]
  },
  {
   "cell_type": "markdown",
   "metadata": {},
   "source": [
    "### np.linalg.inv\n",
    "- 역행렬을 구할 때 사용\n",
    "- 모든 차원의 값이 같아야 함"
   ]
  },
  {
   "cell_type": "code",
   "execution_count": 5,
   "metadata": {},
   "outputs": [
    {
     "name": "stdout",
     "output_type": "stream",
     "text": [
      "[[0.27330838 0.28623136 0.40715075]\n",
      " [0.47842376 0.57722352 0.68411335]\n",
      " [0.84931421 0.42707145 0.23858817]]\n"
     ]
    },
    {
     "data": {
      "text/plain": [
       "array([[ 1.00000000e+00, -2.50767553e-16, -3.28276058e-17],\n",
       "       [-1.47157064e-15,  1.00000000e+00, -4.95781530e-17],\n",
       "       [ 1.26228114e-16,  2.38153416e-16,  1.00000000e+00]])"
      ]
     },
     "execution_count": 5,
     "metadata": {},
     "output_type": "execute_result"
    }
   ],
   "source": [
    "x = np.random.rand(3, 3)\n",
    "print(x)\n",
    "\n",
    "np.matmul(x,np.linalg.inv(x))\n",
    "x @ np.linalg.inv(x)"
   ]
  },
  {
   "cell_type": "markdown",
   "metadata": {},
   "source": [
    "### np.linalg.solve\n",
    "- Ax = B 형태의 선형대수식 솔루션을 제공한다\n",
    "- 예) 강아지와 비둘기의 합 : 총 25마리 강아지 다리와 비둘기의 다리 합은 64\n",
    "\n",
    "- x + y = 25\n",
    "- 2x + 4y = 64"
   ]
  },
  {
   "cell_type": "code",
   "execution_count": 10,
   "metadata": {},
   "outputs": [
    {
     "name": "stdout",
     "output_type": "stream",
     "text": [
      "[18.  7.]\n",
      "True\n"
     ]
    }
   ],
   "source": [
    "A = np.array([[1,1],[2,4]])\n",
    "B = np.array([25, 64])\n",
    "\n",
    "x = np.linalg.solve(A,B)\n",
    "print(x)\n",
    "\n",
    "#실수값 비교 방법\n",
    "print(np.allclose(A@x, B))"
   ]
  },
  {
   "cell_type": "code",
   "execution_count": null,
   "metadata": {},
   "outputs": [],
   "source": []
  }
 ],
 "metadata": {
  "kernelspec": {
   "display_name": "Python 3",
   "language": "python",
   "name": "python3"
  },
  "language_info": {
   "codemirror_mode": {
    "name": "ipython",
    "version": 3
   },
   "file_extension": ".py",
   "mimetype": "text/x-python",
   "name": "python",
   "nbconvert_exporter": "python",
   "pygments_lexer": "ipython3",
   "version": "3.7.6"
  }
 },
 "nbformat": 4,
 "nbformat_minor": 4
}
